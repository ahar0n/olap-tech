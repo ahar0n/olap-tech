{
 "cells": [
  {
   "cell_type": "markdown",
   "metadata": {},
   "source": [
    "# Tecnologías para el diseño de cubos OLAP\n",
    "\n",
    "### Contenidos\n",
    "1. Open Database Conectivity (ODBC)\n",
    "1. Data Source Name (DSN)\n",
    "1. Instalación y configuración del conector ODBC\n",
    "1. Diseño de cubos en Olap Cube\n",
    "1. Actividades"
   ]
  },
  {
   "cell_type": "markdown",
   "metadata": {},
   "source": [
    "## Open Database Conectivity (ODBC)\n",
    "\n",
    "Interfaz de programación de aplicaciones ([API](https://en.wikipedia.org/wiki/Application_programming_interface)) es un estándar para acceder a sistemas de gestión de bases de datos (SGBD).\n",
    "- Proporciona __independencia del SGBD__, utilizando un controlador ODBC [[1]](https://web.archive.org/web/20120204040624/http://www.openlinksw.com/info/docs/odbcwhp/open.htm#Connectivity%20Standard)[[2]](https://es.wikipedia.org/wiki/Open_Database_Connectivity) como capa de traducción entre las aplicaciones y el SGBD. \n",
    "- Las aplicaciones utilizan funciones a través del controladores ODBC con el que estan enlazadas, y __el controlador pasa la consulta al SGBD__."
   ]
  },
  {
   "source": [
    "![Arquitectura conector ODBC](https://dev.mysql.com/doc/connectors/en/images/myarchitecture.png)"
   ],
   "cell_type": "markdown",
   "metadata": {}
  },
  {
   "cell_type": "markdown",
   "metadata": {},
   "source": [
    "## Data Source Name (DSN) \n",
    "\n",
    "La configuración de conexión (DSN - *Data Source Name*) [[1]](https://support.microsoft.com/en-us/help/966849/what-is-a-dsn-data-source-name)[[2]](https://en.wikipedia.org/wiki/Data_source_name) permite establecer la comunicación con la fuente de datos ODBC. Es decir, estableciendo los detalles de conexión: el nombre de la base de datos, el directorio, el controlador de la base de datos, identificación de usuario y contraseña la contraseña, entre otros.\n",
    "\n",
    "Algunas __tareas comunes__ para la utilización de un conector ODBC, son:\n",
    "\n",
    "- Selección y conexión con el servidor.\n",
    "- Envío de sentencias SQL para su ejecución.\n",
    "- Recuperación de resultados (si los hubiere).\n",
    "- Errores de procesamiento.\n",
    "- Confirmación o anulación de la transacción que incluye la instrucción SQL.\n",
    "- Desconexión del servidor."
   ]
  },
  {
   "source": [
    "## Instalación y configuración de conector ODBC\n",
    "\n",
    "1. Instalar el SGBD [MySQL](https://dev.mysql.com/downloads/workbench/). También puede instalar MySQL por medio del paquete [XAMPP](https://www.apachefriends.org/es/index.html). \n",
    "1. Descargar e instalar el [Connector/ODBC de MySQL para Windows](https://dev.mysql.com/downloads/connector/odbc/5.3.html).\n",
    "1. Configurar una conexión ODBC a MySQL ([instrucciones](https://dev.mysql.com/doc/connector-odbc/en/connector-odbc-configuration-dsn-windows-5-2.html)). Para esto debe conocer los parámetros de configuración de su servidor de base de datos.\n",
    "    - **Server**: Nombre del Host o dirección IP del servidor MySQL. Por defecto es `localhost`.\n",
    "    - **User**: Nombre de usuario de MySQL para conectarse al servidor MySQL. Habitualmente es `root`.\n",
    "    - **Password**: Contraseña del usuario (User).\n",
    "    - **Database**: Base de datos a la cual se conectará por defecto una vez que se inicie la conexión. Se puede selección desde el menú desplegable."
   ],
   "cell_type": "markdown",
   "metadata": {}
  },
  {
   "cell_type": "markdown",
   "metadata": {},
   "source": [
    "## Diseño de cubos en Olap Cube\n",
    "\n",
    "Descargar e instalar la herramienta [OlapCube](http://www.olapcube.com).\n",
    "\n",
    "- Inicie la herramiento OLAP cube y presiones ```Evaluate```, ya que no licenciaremos la herramienta.\n",
    "\n",
    "<img src=\"./img/olapcube_license.png\">\n",
    "\n",
    "- Haga clic en `open a sample Project` para observar los ejemplos que trae la herramienta.\n",
    "\n",
    "<img src=\"./img/olapcube_welcome.png\">\n",
    "\n",
    "- Observe las propiedades de las dimensiones y las medidas, en el panel ubicado a la izquierda de la ventana.\n",
    "\n",
    "<img src=\"./img/olapcube_buildcube.png\">\n",
    "\n",
    "- Para construir un cubo, haga clic sobre ```build cube```.\n",
    "- Para construir una tabla dinámica en MS-Excel, haga clic sobre ```open in Excel```."
   ]
  },
  {
   "cell_type": "markdown",
   "metadata": {},
   "source": [
    "## Actividad\n",
    "\n",
    "1. Crear el modelo de la base datos en el SGBD Mysql, a partir del código SQL `universidad_ddl.sql`.\n",
    "2. Insertar datos a la base de datos ejecutando el código SQL `universidad_dml.sql`.\n",
    "3. Iniciar la herramienta OLAP cube, presionar `connect your data source`. Seleccionar MySQL y presionar `OK`.\n",
    "4. Seleccionar la conección ODBC (la misma configurada en los requisistos de la actividad) y presione `OK`.\n",
    "5. La ventana mostrará las tablas de la base de datos, seleccionarlas todas. \n",
    "6. Diseñar un *data mart*, agregando métricas al cubo ([consultar ayuda](http://www.olapcube.com/help/writer/)):\n",
    "    1. Dimensión Alumno (NombreAlumno)\n",
    "    2. Dimensión Asignatura (NombreAsignatura)\n",
    "    3. Dimensión Profesor (NombreDepto, Titulo, NombreProfesor)\n",
    "    4. Dimension Tiempo (Anio)\n",
    "    5. Medida Promedio\n",
    "7. Presionar el botón `build cube` para construir el cubo OLAP.\n",
    "7. Revisar los diferentes gráficos porporcionados por la herramienta para la representación de la información.\n",
    "7. Crear una tabla dinámica en MS-Excel, presionando el botón `open in Excel`. \n",
    "7. Construir un gráfico dinámico en MS-Excel.\n",
    "7. Generar un reporte de la actividad, en la cual deberá incluir una comparación entre la herramienta OlapCube y MS-Excel."
   ]
  },
  {
   "source": [
    "## Actividades complementarias\n",
    "\n",
    "- Revisar los datos de ejemplos ([tutoriales](http://www.olapcube.com/help/writer/)) que contiene la herramienta OlapCube.\n",
    "- Investigar sobre el uso de la herramienta [Power Pivot](https://support.office.com/es-es/article/Power-Pivot-análisis-de-datos-eficaz-y-modelado-de-datos-en-Excel-a9c2c6e2-cc49-4976-a7d7-40896795d045).\n",
    "- Revisar la forma de acceder a una base de datos directamente desde MS-Excel [documentación](https://dev.mysql.com/doc/connector-odbc/en/connector-odbc-examples-tools-with-wordexcel.html)."
   ],
   "cell_type": "markdown",
   "metadata": {}
  }
 ],
 "metadata": {
  "kernelspec": {
   "display_name": "Python 3",
   "language": "python",
   "name": "python3"
  },
  "language_info": {
   "codemirror_mode": {
    "name": "ipython",
    "version": 3
   },
   "file_extension": ".py",
   "mimetype": "text/x-python",
   "name": "python",
   "nbconvert_exporter": "python",
   "pygments_lexer": "ipython3",
   "version": "3.7.3"
  }
 },
 "nbformat": 4,
 "nbformat_minor": 2
}